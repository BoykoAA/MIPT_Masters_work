{
 "cells": [
  {
   "cell_type": "code",
   "execution_count": 84,
   "metadata": {},
   "outputs": [],
   "source": [
    "import numpy as np\n",
    "import pandas as pd\n",
    "import sys\n",
    "sys.path.insert(1, 'scripts/')\n",
    "from gen_matrix import matrix_gen, get_ICA\n",
    "from get_sample import get_sample, create_strings_for_dataset\n",
    "from fft import fft_for_sample\n",
    "from tqdm import tqdm_notebook as tqdm\n",
    "import matplotlib.pyplot as plt\n",
    "from sklearn.decomposition import PCA\n",
    "from sklearn.discriminant_analysis import LinearDiscriminantAnalysis as LDA\n",
    "from sklearn.ensemble import RandomForestClassifier\n",
    "\n",
    "%matplotlib inline"
   ]
  },
  {
   "cell_type": "code",
   "execution_count": 2,
   "metadata": {},
   "outputs": [
    {
     "name": "stdout",
     "output_type": "stream",
     "text": [
      "[0, 6666] [6666, 13332] [13332, 19998]\n"
     ]
    }
   ],
   "source": [
    "EEG = matrix_gen()\n",
    "ICA = get_ICA()\n",
    "\n",
    "class_ = 20000//3\n",
    "class1 = [0,class_]\n",
    "class2 = [class_,class_*2]\n",
    "class3 = [class_*2, EEG.shape[1]]\n",
    "\n",
    "print(class1, class2, class3)"
   ]
  },
  {
   "cell_type": "code",
   "execution_count": 3,
   "metadata": {},
   "outputs": [],
   "source": [
    "#Перемножаем ICA и EEG матрицы\n",
    "matrix = np.matmul(ICA, EEG)\n",
    "#Разбиваем на матрицы классов, чтоб проще было делить на семплы\n",
    "matrix_class1 = matrix[:,0:class_]\n",
    "matrix_calss2 = matrix[:, class_:class_*2]\n",
    "matrix_calss3 = matrix[:, class_*2:EEG.shape[1]]"
   ]
  },
  {
   "cell_type": "code",
   "execution_count": 4,
   "metadata": {},
   "outputs": [],
   "source": [
    "#Получаю семплы для каждого класса\n",
    "sample_calss1 = get_sample(matrix_class1)\n",
    "sample_calss2 = get_sample(matrix_calss2)\n",
    "sample_calss3 = get_sample(matrix_calss3)"
   ]
  },
  {
   "cell_type": "code",
   "execution_count": 5,
   "metadata": {},
   "outputs": [
    {
     "name": "stdout",
     "output_type": "stream",
     "text": [
      "34 34 34\n"
     ]
    }
   ],
   "source": [
    "print(len(sample_calss1), len(sample_calss2), len(sample_calss3))"
   ]
  },
  {
   "cell_type": "code",
   "execution_count": 6,
   "metadata": {},
   "outputs": [],
   "source": [
    "#Преобразование Фурье\n",
    "sample_calss1_fft = fft_for_sample(sample_calss1, first_n_elements=20)\n",
    "sample_calss2_fft = fft_for_sample(sample_calss2, first_n_elements=20)\n",
    "sample_calss3_fft = fft_for_sample(sample_calss3, first_n_elements=20)"
   ]
  },
  {
   "cell_type": "code",
   "execution_count": 7,
   "metadata": {},
   "outputs": [],
   "source": [
    "#Создание строк для датасета, из матрицы 128*20 -> в вектор 2560\n",
    "sample_calss1_fft_str = create_strings_for_dataset(sample_calss1_fft)\n",
    "sample_calss2_fft_str = create_strings_for_dataset(sample_calss2_fft)\n",
    "sample_calss3_fft_str = create_strings_for_dataset(sample_calss3_fft)"
   ]
  },
  {
   "cell_type": "code",
   "execution_count": 24,
   "metadata": {},
   "outputs": [
    {
     "name": "stderr",
     "output_type": "stream",
     "text": [
      "/Users/aleksandrbojko/anaconda3/lib/python3.6/site-packages/ipykernel_launcher.py:7: TqdmDeprecationWarning: This function will be removed in tqdm==5.0.0\n",
      "Please use `tqdm.notebook.tqdm` instead of `tqdm.tqdm_notebook`\n",
      "  import sys\n"
     ]
    },
    {
     "data": {
      "application/vnd.jupyter.widget-view+json": {
       "model_id": "93ea6e5520ce401e9ad9978f7cb16e8b",
       "version_major": 2,
       "version_minor": 0
      },
      "text/html": [
       "<p>Failed to display Jupyter Widget of type <code>HBox</code>.</p>\n",
       "<p>\n",
       "  If you're reading this message in the Jupyter Notebook or JupyterLab Notebook, it may mean\n",
       "  that the widgets JavaScript is still loading. If this message persists, it\n",
       "  likely means that the widgets JavaScript library is either not installed or\n",
       "  not enabled. See the <a href=\"https://ipywidgets.readthedocs.io/en/stable/user_install.html\">Jupyter\n",
       "  Widgets Documentation</a> for setup instructions.\n",
       "</p>\n",
       "<p>\n",
       "  If you're reading this message in another frontend (for example, a static\n",
       "  rendering on GitHub or <a href=\"https://nbviewer.jupyter.org/\">NBViewer</a>),\n",
       "  it may mean that your frontend doesn't currently support widgets.\n",
       "</p>\n"
      ],
      "text/plain": [
       "HBox(children=(IntProgress(value=0, max=34), HTML(value='')))"
      ]
     },
     "metadata": {},
     "output_type": "display_data"
    },
    {
     "name": "stdout",
     "output_type": "stream",
     "text": [
      "\n"
     ]
    },
    {
     "name": "stderr",
     "output_type": "stream",
     "text": [
      "/Users/aleksandrbojko/anaconda3/lib/python3.6/site-packages/ipykernel_launcher.py:15: TqdmDeprecationWarning: This function will be removed in tqdm==5.0.0\n",
      "Please use `tqdm.notebook.tqdm` instead of `tqdm.tqdm_notebook`\n",
      "  from ipykernel import kernelapp as app\n"
     ]
    },
    {
     "data": {
      "application/vnd.jupyter.widget-view+json": {
       "model_id": "472958e8a86040c2b7c59069dcab561a",
       "version_major": 2,
       "version_minor": 0
      },
      "text/html": [
       "<p>Failed to display Jupyter Widget of type <code>HBox</code>.</p>\n",
       "<p>\n",
       "  If you're reading this message in the Jupyter Notebook or JupyterLab Notebook, it may mean\n",
       "  that the widgets JavaScript is still loading. If this message persists, it\n",
       "  likely means that the widgets JavaScript library is either not installed or\n",
       "  not enabled. See the <a href=\"https://ipywidgets.readthedocs.io/en/stable/user_install.html\">Jupyter\n",
       "  Widgets Documentation</a> for setup instructions.\n",
       "</p>\n",
       "<p>\n",
       "  If you're reading this message in another frontend (for example, a static\n",
       "  rendering on GitHub or <a href=\"https://nbviewer.jupyter.org/\">NBViewer</a>),\n",
       "  it may mean that your frontend doesn't currently support widgets.\n",
       "</p>\n"
      ],
      "text/plain": [
       "HBox(children=(IntProgress(value=0, max=34), HTML(value='')))"
      ]
     },
     "metadata": {},
     "output_type": "display_data"
    },
    {
     "name": "stdout",
     "output_type": "stream",
     "text": [
      "\n"
     ]
    },
    {
     "name": "stderr",
     "output_type": "stream",
     "text": [
      "/Users/aleksandrbojko/anaconda3/lib/python3.6/site-packages/ipykernel_launcher.py:23: TqdmDeprecationWarning: This function will be removed in tqdm==5.0.0\n",
      "Please use `tqdm.notebook.tqdm` instead of `tqdm.tqdm_notebook`\n"
     ]
    },
    {
     "data": {
      "application/vnd.jupyter.widget-view+json": {
       "model_id": "6a216b8ca977434e8cb25a9f1a492c0e",
       "version_major": 2,
       "version_minor": 0
      },
      "text/html": [
       "<p>Failed to display Jupyter Widget of type <code>HBox</code>.</p>\n",
       "<p>\n",
       "  If you're reading this message in the Jupyter Notebook or JupyterLab Notebook, it may mean\n",
       "  that the widgets JavaScript is still loading. If this message persists, it\n",
       "  likely means that the widgets JavaScript library is either not installed or\n",
       "  not enabled. See the <a href=\"https://ipywidgets.readthedocs.io/en/stable/user_install.html\">Jupyter\n",
       "  Widgets Documentation</a> for setup instructions.\n",
       "</p>\n",
       "<p>\n",
       "  If you're reading this message in another frontend (for example, a static\n",
       "  rendering on GitHub or <a href=\"https://nbviewer.jupyter.org/\">NBViewer</a>),\n",
       "  it may mean that your frontend doesn't currently support widgets.\n",
       "</p>\n"
      ],
      "text/plain": [
       "HBox(children=(IntProgress(value=0, max=34), HTML(value='')))"
      ]
     },
     "metadata": {},
     "output_type": "display_data"
    },
    {
     "name": "stdout",
     "output_type": "stream",
     "text": [
      "\n",
      "(102, 2561)\n"
     ]
    },
    {
     "data": {
      "text/html": [
       "<div>\n",
       "<style scoped>\n",
       "    .dataframe tbody tr th:only-of-type {\n",
       "        vertical-align: middle;\n",
       "    }\n",
       "\n",
       "    .dataframe tbody tr th {\n",
       "        vertical-align: top;\n",
       "    }\n",
       "\n",
       "    .dataframe thead th {\n",
       "        text-align: right;\n",
       "    }\n",
       "</style>\n",
       "<table border=\"1\" class=\"dataframe\">\n",
       "  <thead>\n",
       "    <tr style=\"text-align: right;\">\n",
       "      <th></th>\n",
       "      <th>0</th>\n",
       "      <th>1</th>\n",
       "      <th>2</th>\n",
       "      <th>3</th>\n",
       "      <th>4</th>\n",
       "      <th>5</th>\n",
       "      <th>6</th>\n",
       "      <th>7</th>\n",
       "      <th>8</th>\n",
       "      <th>9</th>\n",
       "      <th>...</th>\n",
       "      <th>2551</th>\n",
       "      <th>2552</th>\n",
       "      <th>2553</th>\n",
       "      <th>2554</th>\n",
       "      <th>2555</th>\n",
       "      <th>2556</th>\n",
       "      <th>2557</th>\n",
       "      <th>2558</th>\n",
       "      <th>2559</th>\n",
       "      <th>label</th>\n",
       "    </tr>\n",
       "  </thead>\n",
       "  <tbody>\n",
       "    <tr>\n",
       "      <td>0</td>\n",
       "      <td>378.621793+0.000000j</td>\n",
       "      <td>392.359895+0.000000j</td>\n",
       "      <td>376.212969+0.000000j</td>\n",
       "      <td>407.818167+0.000000j</td>\n",
       "      <td>387.736533+0.000000j</td>\n",
       "      <td>399.956532+0.000000j</td>\n",
       "      <td>401.222270+0.000000j</td>\n",
       "      <td>394.667790+0.000000j</td>\n",
       "      <td>397.796120+0.000000j</td>\n",
       "      <td>401.077424+0.000000j</td>\n",
       "      <td>...</td>\n",
       "      <td>-0.239623-0.222756j</td>\n",
       "      <td>-0.286905-0.320460j</td>\n",
       "      <td>-0.357968-0.314217j</td>\n",
       "      <td>-0.215491-0.259454j</td>\n",
       "      <td>-0.341680-0.276433j</td>\n",
       "      <td>-0.305196-0.238052j</td>\n",
       "      <td>-0.308881-0.279752j</td>\n",
       "      <td>-0.341940-0.260021j</td>\n",
       "      <td>-0.235208-0.317992j</td>\n",
       "      <td>1</td>\n",
       "    </tr>\n",
       "    <tr>\n",
       "      <td>1</td>\n",
       "      <td>378.498136+0.000000j</td>\n",
       "      <td>392.292583+0.000000j</td>\n",
       "      <td>376.181943+0.000000j</td>\n",
       "      <td>407.746909+0.000000j</td>\n",
       "      <td>387.746698+0.000000j</td>\n",
       "      <td>399.882975+0.000000j</td>\n",
       "      <td>401.149658+0.000000j</td>\n",
       "      <td>394.616038+0.000000j</td>\n",
       "      <td>397.777711+0.000000j</td>\n",
       "      <td>401.057028+0.000000j</td>\n",
       "      <td>...</td>\n",
       "      <td>-0.520837-0.071549j</td>\n",
       "      <td>-0.612741-0.155405j</td>\n",
       "      <td>-0.633815-0.140458j</td>\n",
       "      <td>-0.542515-0.176187j</td>\n",
       "      <td>-0.635357-0.088674j</td>\n",
       "      <td>-0.575131-0.060048j</td>\n",
       "      <td>-0.596054-0.129106j</td>\n",
       "      <td>-0.617545-0.078515j</td>\n",
       "      <td>-0.515092-0.124903j</td>\n",
       "      <td>1</td>\n",
       "    </tr>\n",
       "    <tr>\n",
       "      <td>2</td>\n",
       "      <td>378.494679+0.000000j</td>\n",
       "      <td>392.321874+0.000000j</td>\n",
       "      <td>376.239557+0.000000j</td>\n",
       "      <td>407.815894+0.000000j</td>\n",
       "      <td>387.770623+0.000000j</td>\n",
       "      <td>399.915903+0.000000j</td>\n",
       "      <td>401.181507+0.000000j</td>\n",
       "      <td>394.723796+0.000000j</td>\n",
       "      <td>397.823791+0.000000j</td>\n",
       "      <td>401.101859+0.000000j</td>\n",
       "      <td>...</td>\n",
       "      <td>-0.472840+0.187818j</td>\n",
       "      <td>-0.537317+0.141913j</td>\n",
       "      <td>-0.575548+0.159495j</td>\n",
       "      <td>-0.538792+0.112142j</td>\n",
       "      <td>-0.508322+0.181164j</td>\n",
       "      <td>-0.476061+0.195841j</td>\n",
       "      <td>-0.551516+0.158773j</td>\n",
       "      <td>-0.463980+0.163623j</td>\n",
       "      <td>-0.432593+0.093382j</td>\n",
       "      <td>1</td>\n",
       "    </tr>\n",
       "    <tr>\n",
       "      <td>3</td>\n",
       "      <td>379.023669+0.000000j</td>\n",
       "      <td>392.874435+0.000000j</td>\n",
       "      <td>376.668883+0.000000j</td>\n",
       "      <td>408.260964+0.000000j</td>\n",
       "      <td>388.297122+0.000000j</td>\n",
       "      <td>400.346737+0.000000j</td>\n",
       "      <td>401.753792+0.000000j</td>\n",
       "      <td>395.208318+0.000000j</td>\n",
       "      <td>398.306172+0.000000j</td>\n",
       "      <td>401.608149+0.000000j</td>\n",
       "      <td>...</td>\n",
       "      <td>0.064540-0.036186j</td>\n",
       "      <td>0.019709-0.039423j</td>\n",
       "      <td>-0.007076-0.032071j</td>\n",
       "      <td>-0.066462-0.034094j</td>\n",
       "      <td>-0.025900-0.014831j</td>\n",
       "      <td>0.017568-0.016562j</td>\n",
       "      <td>0.035882-0.030549j</td>\n",
       "      <td>0.037953-0.053292j</td>\n",
       "      <td>0.015461-0.065619j</td>\n",
       "      <td>1</td>\n",
       "    </tr>\n",
       "    <tr>\n",
       "      <td>4</td>\n",
       "      <td>378.942847+0.000000j</td>\n",
       "      <td>392.705636+0.000000j</td>\n",
       "      <td>376.561026+0.000000j</td>\n",
       "      <td>408.035356+0.000000j</td>\n",
       "      <td>388.169465+0.000000j</td>\n",
       "      <td>400.223592+0.000000j</td>\n",
       "      <td>401.592606+0.000000j</td>\n",
       "      <td>395.093402+0.000000j</td>\n",
       "      <td>398.165688+0.000000j</td>\n",
       "      <td>401.492231+0.000000j</td>\n",
       "      <td>...</td>\n",
       "      <td>-0.150503-0.318108j</td>\n",
       "      <td>-0.173673-0.301851j</td>\n",
       "      <td>-0.145987-0.272791j</td>\n",
       "      <td>-0.186571-0.280399j</td>\n",
       "      <td>-0.153269-0.185514j</td>\n",
       "      <td>-0.123856-0.246385j</td>\n",
       "      <td>-0.160488-0.309019j</td>\n",
       "      <td>-0.164026-0.314761j</td>\n",
       "      <td>-0.135274-0.287606j</td>\n",
       "      <td>1</td>\n",
       "    </tr>\n",
       "  </tbody>\n",
       "</table>\n",
       "<p>5 rows × 2561 columns</p>\n",
       "</div>"
      ],
      "text/plain": [
       "                      0                     1                     2  \\\n",
       "0  378.621793+0.000000j  392.359895+0.000000j  376.212969+0.000000j   \n",
       "1  378.498136+0.000000j  392.292583+0.000000j  376.181943+0.000000j   \n",
       "2  378.494679+0.000000j  392.321874+0.000000j  376.239557+0.000000j   \n",
       "3  379.023669+0.000000j  392.874435+0.000000j  376.668883+0.000000j   \n",
       "4  378.942847+0.000000j  392.705636+0.000000j  376.561026+0.000000j   \n",
       "\n",
       "                      3                     4                     5  \\\n",
       "0  407.818167+0.000000j  387.736533+0.000000j  399.956532+0.000000j   \n",
       "1  407.746909+0.000000j  387.746698+0.000000j  399.882975+0.000000j   \n",
       "2  407.815894+0.000000j  387.770623+0.000000j  399.915903+0.000000j   \n",
       "3  408.260964+0.000000j  388.297122+0.000000j  400.346737+0.000000j   \n",
       "4  408.035356+0.000000j  388.169465+0.000000j  400.223592+0.000000j   \n",
       "\n",
       "                      6                     7                     8  \\\n",
       "0  401.222270+0.000000j  394.667790+0.000000j  397.796120+0.000000j   \n",
       "1  401.149658+0.000000j  394.616038+0.000000j  397.777711+0.000000j   \n",
       "2  401.181507+0.000000j  394.723796+0.000000j  397.823791+0.000000j   \n",
       "3  401.753792+0.000000j  395.208318+0.000000j  398.306172+0.000000j   \n",
       "4  401.592606+0.000000j  395.093402+0.000000j  398.165688+0.000000j   \n",
       "\n",
       "                      9  ...                2551                2552  \\\n",
       "0  401.077424+0.000000j  ... -0.239623-0.222756j -0.286905-0.320460j   \n",
       "1  401.057028+0.000000j  ... -0.520837-0.071549j -0.612741-0.155405j   \n",
       "2  401.101859+0.000000j  ... -0.472840+0.187818j -0.537317+0.141913j   \n",
       "3  401.608149+0.000000j  ...  0.064540-0.036186j  0.019709-0.039423j   \n",
       "4  401.492231+0.000000j  ... -0.150503-0.318108j -0.173673-0.301851j   \n",
       "\n",
       "                 2553                2554                2555  \\\n",
       "0 -0.357968-0.314217j -0.215491-0.259454j -0.341680-0.276433j   \n",
       "1 -0.633815-0.140458j -0.542515-0.176187j -0.635357-0.088674j   \n",
       "2 -0.575548+0.159495j -0.538792+0.112142j -0.508322+0.181164j   \n",
       "3 -0.007076-0.032071j -0.066462-0.034094j -0.025900-0.014831j   \n",
       "4 -0.145987-0.272791j -0.186571-0.280399j -0.153269-0.185514j   \n",
       "\n",
       "                 2556                2557                2558  \\\n",
       "0 -0.305196-0.238052j -0.308881-0.279752j -0.341940-0.260021j   \n",
       "1 -0.575131-0.060048j -0.596054-0.129106j -0.617545-0.078515j   \n",
       "2 -0.476061+0.195841j -0.551516+0.158773j -0.463980+0.163623j   \n",
       "3  0.017568-0.016562j  0.035882-0.030549j  0.037953-0.053292j   \n",
       "4 -0.123856-0.246385j -0.160488-0.309019j -0.164026-0.314761j   \n",
       "\n",
       "                 2559  label  \n",
       "0 -0.235208-0.317992j      1  \n",
       "1 -0.515092-0.124903j      1  \n",
       "2 -0.432593+0.093382j      1  \n",
       "3  0.015461-0.065619j      1  \n",
       "4 -0.135274-0.287606j      1  \n",
       "\n",
       "[5 rows x 2561 columns]"
      ]
     },
     "execution_count": 24,
     "metadata": {},
     "output_type": "execute_result"
    }
   ],
   "source": [
    "#Создание таблицы объекты-признаки\n",
    "\n",
    "#Класс 1\n",
    "data_class_1 = pd.DataFrame(data=np.zeros((34, 2560)))\n",
    "data_class_1['label'] = 1\n",
    "\n",
    "for i in tqdm(range(len(sample_calss1_fft_str))):\n",
    "    data_class_1.loc[i, :-1] = sample_calss1_fft_str[i]\n",
    "    \n",
    "    \n",
    "#Класс 2\n",
    "data_class_2 = pd.DataFrame(data=np.zeros((34, 2560)))\n",
    "data_class_2['label'] = 2\n",
    "\n",
    "for i in tqdm(range(len(sample_calss2_fft_str))):\n",
    "    data_class_2.loc[i, :-1] = sample_calss2_fft_str[i]\n",
    "    \n",
    "    \n",
    "#Класс 3\n",
    "data_class_3 = pd.DataFrame(data=np.zeros((34, 2560)))\n",
    "data_class_3['label'] = 3V0\n",
    "\n",
    "for i in tqdm(range(len(sample_calss3_fft_str))):\n",
    "    data_class_3.loc[i, :-1] = sample_calss3_fft_str[i]\n",
    "    \n",
    "    \n",
    "data = pd.concat([data_class_1, data_class_2, data_class_3], axis=0)\n",
    "print(data.shape)\n",
    "data.head(5)"
   ]
  },
  {
   "cell_type": "code",
   "execution_count": 75,
   "metadata": {},
   "outputs": [],
   "source": [
    "#Понизим размерность до 60 компонент\n",
    "PCA = PCA(n_components=60)\n",
    "data_pca = PCA.fit_transform(abs(data).iloc[:, :-1])"
   ]
  },
  {
   "cell_type": "code",
   "execution_count": 76,
   "metadata": {},
   "outputs": [],
   "source": [
    "data_pca = pd.DataFrame(data_pca)\n",
    "# data_pca['label'] = data['label'].values\n",
    "labels = data['label'].values"
   ]
  },
  {
   "cell_type": "code",
   "execution_count": 82,
   "metadata": {},
   "outputs": [
    {
     "data": {
      "text/plain": [
       "LinearDiscriminantAnalysis(n_components=None, priors=None, shrinkage=None,\n",
       "                           solver='svd', store_covariance=False, tol=0.0001)"
      ]
     },
     "execution_count": 82,
     "metadata": {},
     "output_type": "execute_result"
    }
   ],
   "source": [
    "#Обучим LDA\n",
    "LDA = LDA()\n",
    "LDA.fit(data_pca, labels)"
   ]
  },
  {
   "cell_type": "code",
   "execution_count": 85,
   "metadata": {},
   "outputs": [
    {
     "name": "stderr",
     "output_type": "stream",
     "text": [
      "/Users/aleksandrbojko/anaconda3/lib/python3.6/site-packages/sklearn/ensemble/forest.py:245: FutureWarning: The default value of n_estimators will change from 10 in version 0.20 to 100 in 0.22.\n",
      "  \"10 in version 0.20 to 100 in 0.22.\", FutureWarning)\n"
     ]
    },
    {
     "data": {
      "text/plain": [
       "RandomForestClassifier(bootstrap=True, class_weight=None, criterion='gini',\n",
       "                       max_depth=None, max_features='auto', max_leaf_nodes=None,\n",
       "                       min_impurity_decrease=0.0, min_impurity_split=None,\n",
       "                       min_samples_leaf=1, min_samples_split=2,\n",
       "                       min_weight_fraction_leaf=0.0, n_estimators=10,\n",
       "                       n_jobs=None, oob_score=False, random_state=None,\n",
       "                       verbose=0, warm_start=False)"
      ]
     },
     "execution_count": 85,
     "metadata": {},
     "output_type": "execute_result"
    }
   ],
   "source": [
    "#Посмотрим важные признаки с помощью RF\n",
    "rf = RandomForestClassifier()\n",
    "rf.fit(data_pca, labels)"
   ]
  },
  {
   "cell_type": "code",
   "execution_count": 101,
   "metadata": {},
   "outputs": [
    {
     "data": {
      "text/plain": [
       "<matplotlib.axes._subplots.AxesSubplot at 0x12d1b4828>"
      ]
     },
     "execution_count": 101,
     "metadata": {},
     "output_type": "execute_result"
    },
    {
     "data": {
      "image/png": "[encoded data removed]",
      "text/plain": [
       "<Figure size 1080x720 with 1 Axes>"
      ]
     },
     "metadata": {},
     "output_type": "display_data"
    }
   ],
   "source": [
    "pd.DataFrame(sorted(rf.feature_importances_)).plot(kind='barh', figsize=(15,10))"
   ]
  },
  {
   "cell_type": "code",
   "execution_count": null,
   "metadata": {},
   "outputs": [],
   "source": []
  }
 ],
 "metadata": {
  "kernelspec": {
   "display_name": "Python 3",
   "language": "python",
   "name": "python3"
  },
  "language_info": {
   "codemirror_mode": {
    "name": "ipython",
    "version": 3
   },
   "file_extension": ".py",
   "mimetype": "text/x-python",
   "name": "python",
   "nbconvert_exporter": "python",
   "pygments_lexer": "ipython3",
   "version": "3.6.4"
  }
 },
 "nbformat": 4,
 "nbformat_minor": 2
}
