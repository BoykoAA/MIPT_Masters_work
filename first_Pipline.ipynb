{
 "cells": [
  {
   "cell_type": "code",
   "execution_count": 1,
   "metadata": {},
   "outputs": [],
   "source": [
    "import numpy as np\n",
    "import pandas as pd\n",
    "import sys\n",
    "sys.path.insert(1, 'scripts/')\n",
    "from gen_matrix import matrix_gen, get_ICA\n",
    "from get_sample import get_sample, create_strings_for_dataset\n",
    "from fft import fft_for_sample\n",
    "from tqdm import tqdm_notebook as tqdm\n",
    "import matplotlib.pyplot as plt\n",
    "from sklearn.decomposition import PCA\n",
    "from sklearn.discriminant_analysis import LinearDiscriminantAnalysis as LDA\n",
    "from sklearn.ensemble import RandomForestClassifier\n",
    "\n",
    "%matplotlib inline"
   ]
  },
  {
   "cell_type": "code",
   "execution_count": 2,
   "metadata": {},
   "outputs": [
    {
     "name": "stdout",
     "output_type": "stream",
     "text": [
      "[0, 6666] [6666, 13332] [13332, 19998]\n"
     ]
    }
   ],
   "source": [
    "EEG = matrix_gen()\n",
    "ICA = get_ICA()\n",
    "\n",
    "class_ = 20000//3\n",
    "class1 = [0,class_]\n",
    "class2 = [class_,class_*2]\n",
    "class3 = [class_*2, EEG.shape[1]]\n",
    "\n",
    "print(class1, class2, class3)"
   ]
  },
  {
   "cell_type": "code",
   "execution_count": 3,
   "metadata": {},
   "outputs": [],
   "source": [
    "#Перемножаем ICA и EEG матрицы\n",
    "matrix = np.matmul(ICA, EEG)\n",
    "#Разбиваем на матрицы классов, чтоб проще было делить на семплы\n",
    "matrix_class1 = matrix[:,0:class_]\n",
    "matrix_calss2 = matrix[:, class_:class_*2]\n",
    "matrix_calss3 = matrix[:, class_*2:EEG.shape[1]]"
   ]
  },
  {
   "cell_type": "code",
   "execution_count": 4,
   "metadata": {},
   "outputs": [],
   "source": [
    "#Получаю семплы для каждого класса\n",
    "sample_calss1 = get_sample(matrix_class1)\n",
    "sample_calss2 = get_sample(matrix_calss2)\n",
    "sample_calss3 = get_sample(matrix_calss3)"
   ]
  },
  {
   "cell_type": "code",
   "execution_count": 5,
   "metadata": {},
   "outputs": [
    {
     "name": "stdout",
     "output_type": "stream",
     "text": [
      "34 34 34\n"
     ]
    }
   ],
   "source": [
    "print(len(sample_calss1), len(sample_calss2), len(sample_calss3))"
   ]
  },
  {
   "cell_type": "code",
   "execution_count": 17,
   "metadata": {},
   "outputs": [],
   "source": [
    "#Преобразование Фурье\n",
    "samples_fft = list(map(abs, fft_for_sample(sample_calss1 + sample_calss2 + sample_calss3, first_n_elements=20)))"
   ]
  },
  {
   "cell_type": "code",
   "execution_count": 18,
   "metadata": {},
   "outputs": [
    {
     "name": "stdout",
     "output_type": "stream",
     "text": [
      "34 34 34\n"
     ]
    }
   ],
   "source": [
    "sample_calss1_fft = samples_fft[:34]\n",
    "sample_calss2_fft = samples_fft[34:34*2]\n",
    "sample_calss3_fft = samples_fft[34*2:]\n",
    "\n",
    "print(len(sample_calss1_fft), len(sample_calss2_fft), len(sample_calss3_fft))"
   ]
  },
  {
   "cell_type": "code",
   "execution_count": 6,
   "metadata": {},
   "outputs": [],
   "source": [
    "#Преобразование Фурье\n",
    "# sample_calss1_fft = fft_for_sample(sample_calss1, first_n_elements=20)\n",
    "# sample_calss2_fft = fft_for_sample(sample_calss2, first_n_elements=20)\n",
    "# sample_calss3_fft = fft_for_sample(sample_calss3, first_n_elements=20)"
   ]
  },
  {
   "cell_type": "code",
   "execution_count": 23,
   "metadata": {},
   "outputs": [],
   "source": [
    "#Создание строк для датасета, из матрицы 128*20 -> в вектор 2560\n",
    "sample_calss1_fft_str = create_strings_for_dataset(sample_calss1_fft)\n",
    "sample_calss2_fft_str = create_strings_for_dataset(sample_calss2_fft)\n",
    "sample_calss3_fft_str = create_strings_for_dataset(sample_calss3_fft)"
   ]
  },
  {
   "cell_type": "code",
   "execution_count": 24,
   "metadata": {},
   "outputs": [
    {
     "name": "stderr",
     "output_type": "stream",
     "text": [
      "/Users/aleksandrbojko/anaconda3/lib/python3.6/site-packages/ipykernel_launcher.py:7: TqdmDeprecationWarning: This function will be removed in tqdm==5.0.0\n",
      "Please use `tqdm.notebook.tqdm` instead of `tqdm.tqdm_notebook`\n",
      "  import sys\n"
     ]
    },
    {
     "data": {
      "application/vnd.jupyter.widget-view+json": {
       "model_id": "3efa9be76a5744db808637c735c2b480",
       "version_major": 2,
       "version_minor": 0
      },
      "text/html": [
       "<p>Failed to display Jupyter Widget of type <code>HBox</code>.</p>\n",
       "<p>\n",
       "  If you're reading this message in the Jupyter Notebook or JupyterLab Notebook, it may mean\n",
       "  that the widgets JavaScript is still loading. If this message persists, it\n",
       "  likely means that the widgets JavaScript library is either not installed or\n",
       "  not enabled. See the <a href=\"https://ipywidgets.readthedocs.io/en/stable/user_install.html\">Jupyter\n",
       "  Widgets Documentation</a> for setup instructions.\n",
       "</p>\n",
       "<p>\n",
       "  If you're reading this message in another frontend (for example, a static\n",
       "  rendering on GitHub or <a href=\"https://nbviewer.jupyter.org/\">NBViewer</a>),\n",
       "  it may mean that your frontend doesn't currently support widgets.\n",
       "</p>\n"
      ],
      "text/plain": [
       "HBox(children=(IntProgress(value=0, max=34), HTML(value='')))"
      ]
     },
     "metadata": {},
     "output_type": "display_data"
    },
    {
     "name": "stdout",
     "output_type": "stream",
     "text": [
      "\n"
     ]
    },
    {
     "name": "stderr",
     "output_type": "stream",
     "text": [
      "/Users/aleksandrbojko/anaconda3/lib/python3.6/site-packages/ipykernel_launcher.py:15: TqdmDeprecationWarning: This function will be removed in tqdm==5.0.0\n",
      "Please use `tqdm.notebook.tqdm` instead of `tqdm.tqdm_notebook`\n",
      "  from ipykernel import kernelapp as app\n"
     ]
    },
    {
     "data": {
      "application/vnd.jupyter.widget-view+json": {
       "model_id": "34ef21e9e6a64509b907fc0bca001d07",
       "version_major": 2,
       "version_minor": 0
      },
      "text/html": [
       "<p>Failed to display Jupyter Widget of type <code>HBox</code>.</p>\n",
       "<p>\n",
       "  If you're reading this message in the Jupyter Notebook or JupyterLab Notebook, it may mean\n",
       "  that the widgets JavaScript is still loading. If this message persists, it\n",
       "  likely means that the widgets JavaScript library is either not installed or\n",
       "  not enabled. See the <a href=\"https://ipywidgets.readthedocs.io/en/stable/user_install.html\">Jupyter\n",
       "  Widgets Documentation</a> for setup instructions.\n",
       "</p>\n",
       "<p>\n",
       "  If you're reading this message in another frontend (for example, a static\n",
       "  rendering on GitHub or <a href=\"https://nbviewer.jupyter.org/\">NBViewer</a>),\n",
       "  it may mean that your frontend doesn't currently support widgets.\n",
       "</p>\n"
      ],
      "text/plain": [
       "HBox(children=(IntProgress(value=0, max=34), HTML(value='')))"
      ]
     },
     "metadata": {},
     "output_type": "display_data"
    },
    {
     "name": "stdout",
     "output_type": "stream",
     "text": [
      "\n"
     ]
    },
    {
     "name": "stderr",
     "output_type": "stream",
     "text": [
      "/Users/aleksandrbojko/anaconda3/lib/python3.6/site-packages/ipykernel_launcher.py:23: TqdmDeprecationWarning: This function will be removed in tqdm==5.0.0\n",
      "Please use `tqdm.notebook.tqdm` instead of `tqdm.tqdm_notebook`\n"
     ]
    },
    {
     "data": {
      "application/vnd.jupyter.widget-view+json": {
       "model_id": "fa36cc08b76e4ba7984e2c0b8f181ea5",
       "version_major": 2,
       "version_minor": 0
      },
      "text/html": [
       "<p>Failed to display Jupyter Widget of type <code>HBox</code>.</p>\n",
       "<p>\n",
       "  If you're reading this message in the Jupyter Notebook or JupyterLab Notebook, it may mean\n",
       "  that the widgets JavaScript is still loading. If this message persists, it\n",
       "  likely means that the widgets JavaScript library is either not installed or\n",
       "  not enabled. See the <a href=\"https://ipywidgets.readthedocs.io/en/stable/user_install.html\">Jupyter\n",
       "  Widgets Documentation</a> for setup instructions.\n",
       "</p>\n",
       "<p>\n",
       "  If you're reading this message in another frontend (for example, a static\n",
       "  rendering on GitHub or <a href=\"https://nbviewer.jupyter.org/\">NBViewer</a>),\n",
       "  it may mean that your frontend doesn't currently support widgets.\n",
       "</p>\n"
      ],
      "text/plain": [
       "HBox(children=(IntProgress(value=0, max=34), HTML(value='')))"
      ]
     },
     "metadata": {},
     "output_type": "display_data"
    },
    {
     "name": "stdout",
     "output_type": "stream",
     "text": [
      "\n",
      "(102, 2561)\n"
     ]
    },
    {
     "data": {
      "text/html": [
       "<div>\n",
       "<style scoped>\n",
       "    .dataframe tbody tr th:only-of-type {\n",
       "        vertical-align: middle;\n",
       "    }\n",
       "\n",
       "    .dataframe tbody tr th {\n",
       "        vertical-align: top;\n",
       "    }\n",
       "\n",
       "    .dataframe thead th {\n",
       "        text-align: right;\n",
       "    }\n",
       "</style>\n",
       "<table border=\"1\" class=\"dataframe\">\n",
       "  <thead>\n",
       "    <tr style=\"text-align: right;\">\n",
       "      <th></th>\n",
       "      <th>0</th>\n",
       "      <th>1</th>\n",
       "      <th>2</th>\n",
       "      <th>3</th>\n",
       "      <th>4</th>\n",
       "      <th>5</th>\n",
       "      <th>6</th>\n",
       "      <th>7</th>\n",
       "      <th>8</th>\n",
       "      <th>9</th>\n",
       "      <th>...</th>\n",
       "      <th>2551</th>\n",
       "      <th>2552</th>\n",
       "      <th>2553</th>\n",
       "      <th>2554</th>\n",
       "      <th>2555</th>\n",
       "      <th>2556</th>\n",
       "      <th>2557</th>\n",
       "      <th>2558</th>\n",
       "      <th>2559</th>\n",
       "      <th>label</th>\n",
       "    </tr>\n",
       "  </thead>\n",
       "  <tbody>\n",
       "    <tr>\n",
       "      <td>0</td>\n",
       "      <td>398.376444</td>\n",
       "      <td>405.482560</td>\n",
       "      <td>404.270590</td>\n",
       "      <td>398.738976</td>\n",
       "      <td>390.879508</td>\n",
       "      <td>400.137091</td>\n",
       "      <td>407.450122</td>\n",
       "      <td>400.077992</td>\n",
       "      <td>401.008205</td>\n",
       "      <td>389.644378</td>\n",
       "      <td>...</td>\n",
       "      <td>0.154381</td>\n",
       "      <td>0.167972</td>\n",
       "      <td>0.216703</td>\n",
       "      <td>0.185896</td>\n",
       "      <td>0.238187</td>\n",
       "      <td>0.151923</td>\n",
       "      <td>0.245607</td>\n",
       "      <td>0.182144</td>\n",
       "      <td>0.111644</td>\n",
       "      <td>1</td>\n",
       "    </tr>\n",
       "    <tr>\n",
       "      <td>1</td>\n",
       "      <td>398.357465</td>\n",
       "      <td>405.595486</td>\n",
       "      <td>404.332621</td>\n",
       "      <td>398.815872</td>\n",
       "      <td>390.877297</td>\n",
       "      <td>400.142469</td>\n",
       "      <td>407.491607</td>\n",
       "      <td>400.081691</td>\n",
       "      <td>400.946532</td>\n",
       "      <td>389.657238</td>\n",
       "      <td>...</td>\n",
       "      <td>0.137514</td>\n",
       "      <td>0.074546</td>\n",
       "      <td>0.062308</td>\n",
       "      <td>0.130045</td>\n",
       "      <td>0.045252</td>\n",
       "      <td>0.116501</td>\n",
       "      <td>0.082873</td>\n",
       "      <td>0.133495</td>\n",
       "      <td>0.227900</td>\n",
       "      <td>1</td>\n",
       "    </tr>\n",
       "    <tr>\n",
       "      <td>2</td>\n",
       "      <td>398.370813</td>\n",
       "      <td>405.634120</td>\n",
       "      <td>404.377120</td>\n",
       "      <td>398.935752</td>\n",
       "      <td>390.914515</td>\n",
       "      <td>400.171913</td>\n",
       "      <td>407.576094</td>\n",
       "      <td>400.177941</td>\n",
       "      <td>400.991198</td>\n",
       "      <td>389.719289</td>\n",
       "      <td>...</td>\n",
       "      <td>0.262433</td>\n",
       "      <td>0.255909</td>\n",
       "      <td>0.238187</td>\n",
       "      <td>0.225266</td>\n",
       "      <td>0.240140</td>\n",
       "      <td>0.312893</td>\n",
       "      <td>0.287069</td>\n",
       "      <td>0.348151</td>\n",
       "      <td>0.305104</td>\n",
       "      <td>1</td>\n",
       "    </tr>\n",
       "    <tr>\n",
       "      <td>3</td>\n",
       "      <td>398.300739</td>\n",
       "      <td>405.474094</td>\n",
       "      <td>404.295854</td>\n",
       "      <td>398.832321</td>\n",
       "      <td>390.876563</td>\n",
       "      <td>400.168028</td>\n",
       "      <td>407.512084</td>\n",
       "      <td>400.168102</td>\n",
       "      <td>400.966513</td>\n",
       "      <td>389.681390</td>\n",
       "      <td>...</td>\n",
       "      <td>0.092657</td>\n",
       "      <td>0.101330</td>\n",
       "      <td>0.108091</td>\n",
       "      <td>0.044705</td>\n",
       "      <td>0.064508</td>\n",
       "      <td>0.172941</td>\n",
       "      <td>0.099706</td>\n",
       "      <td>0.179110</td>\n",
       "      <td>0.107102</td>\n",
       "      <td>1</td>\n",
       "    </tr>\n",
       "    <tr>\n",
       "      <td>4</td>\n",
       "      <td>398.540507</td>\n",
       "      <td>405.699323</td>\n",
       "      <td>404.526656</td>\n",
       "      <td>398.972909</td>\n",
       "      <td>391.096513</td>\n",
       "      <td>400.376305</td>\n",
       "      <td>407.758173</td>\n",
       "      <td>400.370538</td>\n",
       "      <td>401.215012</td>\n",
       "      <td>389.909423</td>\n",
       "      <td>...</td>\n",
       "      <td>0.258330</td>\n",
       "      <td>0.207752</td>\n",
       "      <td>0.265743</td>\n",
       "      <td>0.238662</td>\n",
       "      <td>0.271957</td>\n",
       "      <td>0.296357</td>\n",
       "      <td>0.280276</td>\n",
       "      <td>0.294797</td>\n",
       "      <td>0.230614</td>\n",
       "      <td>1</td>\n",
       "    </tr>\n",
       "  </tbody>\n",
       "</table>\n",
       "<p>5 rows × 2561 columns</p>\n",
       "</div>"
      ],
      "text/plain": [
       "            0           1           2           3           4           5  \\\n",
       "0  398.376444  405.482560  404.270590  398.738976  390.879508  400.137091   \n",
       "1  398.357465  405.595486  404.332621  398.815872  390.877297  400.142469   \n",
       "2  398.370813  405.634120  404.377120  398.935752  390.914515  400.171913   \n",
       "3  398.300739  405.474094  404.295854  398.832321  390.876563  400.168028   \n",
       "4  398.540507  405.699323  404.526656  398.972909  391.096513  400.376305   \n",
       "\n",
       "            6           7           8           9  ...      2551      2552  \\\n",
       "0  407.450122  400.077992  401.008205  389.644378  ...  0.154381  0.167972   \n",
       "1  407.491607  400.081691  400.946532  389.657238  ...  0.137514  0.074546   \n",
       "2  407.576094  400.177941  400.991198  389.719289  ...  0.262433  0.255909   \n",
       "3  407.512084  400.168102  400.966513  389.681390  ...  0.092657  0.101330   \n",
       "4  407.758173  400.370538  401.215012  389.909423  ...  0.258330  0.207752   \n",
       "\n",
       "       2553      2554      2555      2556      2557      2558      2559  label  \n",
       "0  0.216703  0.185896  0.238187  0.151923  0.245607  0.182144  0.111644      1  \n",
       "1  0.062308  0.130045  0.045252  0.116501  0.082873  0.133495  0.227900      1  \n",
       "2  0.238187  0.225266  0.240140  0.312893  0.287069  0.348151  0.305104      1  \n",
       "3  0.108091  0.044705  0.064508  0.172941  0.099706  0.179110  0.107102      1  \n",
       "4  0.265743  0.238662  0.271957  0.296357  0.280276  0.294797  0.230614      1  \n",
       "\n",
       "[5 rows x 2561 columns]"
      ]
     },
     "execution_count": 24,
     "metadata": {},
     "output_type": "execute_result"
    }
   ],
   "source": [
    "#Создание таблицы объекты-признаки\n",
    "\n",
    "#Класс 1\n",
    "data_class_1 = pd.DataFrame(data=np.zeros((34, 2560)))\n",
    "data_class_1['label'] = 1\n",
    "\n",
    "for i in tqdm(range(len(sample_calss1_fft_str))):\n",
    "    data_class_1.loc[i, :-1] = sample_calss1_fft_str[i]\n",
    "    \n",
    "    \n",
    "#Класс 2\n",
    "data_class_2 = pd.DataFrame(data=np.zeros((34, 2560)))\n",
    "data_class_2['label'] = 2\n",
    "\n",
    "for i in tqdm(range(len(sample_calss2_fft_str))):\n",
    "    data_class_2.loc[i, :-1] = sample_calss2_fft_str[i]\n",
    "    \n",
    "    \n",
    "#Класс 3\n",
    "data_class_3 = pd.DataFrame(data=np.zeros((34, 2560)))\n",
    "data_class_3['label'] = 3\n",
    "\n",
    "for i in tqdm(range(len(sample_calss3_fft_str))):\n",
    "    data_class_3.loc[i, :-1] = sample_calss3_fft_str[i]\n",
    "    \n",
    "    \n",
    "data = pd.concat([data_class_1, data_class_2, data_class_3], axis=0)\n",
    "print(data.shape)\n",
    "data.head(5)"
   ]
  },
  {
   "cell_type": "code",
   "execution_count": 25,
   "metadata": {},
   "outputs": [],
   "source": [
    "#Понизим размерность до 60 компонент\n",
    "PCA = PCA(n_components=60)\n",
    "data_pca = PCA.fit_transform((data).iloc[:, :-1])"
   ]
  },
  {
   "cell_type": "code",
   "execution_count": 26,
   "metadata": {},
   "outputs": [],
   "source": [
    "data_pca = pd.DataFrame(data_pca)\n",
    "# data_pca['label'] = data['label'].values\n",
    "labels = data['label'].values"
   ]
  },
  {
   "cell_type": "code",
   "execution_count": 82,
   "metadata": {},
   "outputs": [
    {
     "data": {
      "text/plain": [
       "LinearDiscriminantAnalysis(n_components=None, priors=None, shrinkage=None,\n",
       "                           solver='svd', store_covariance=False, tol=0.0001)"
      ]
     },
     "execution_count": 82,
     "metadata": {},
     "output_type": "execute_result"
    }
   ],
   "source": [
    "#Обучим LDA\n",
    "LDA = LDA()\n",
    "LDA.fit(data_pca, labels)"
   ]
  },
  {
   "cell_type": "code",
   "execution_count": 28,
   "metadata": {},
   "outputs": [
    {
     "name": "stderr",
     "output_type": "stream",
     "text": [
      "/Users/aleksandrbojko/anaconda3/lib/python3.6/site-packages/sklearn/ensemble/forest.py:245: FutureWarning: The default value of n_estimators will change from 10 in version 0.20 to 100 in 0.22.\n",
      "  \"10 in version 0.20 to 100 in 0.22.\", FutureWarning)\n"
     ]
    },
    {
     "data": {
      "text/plain": [
       "RandomForestClassifier(bootstrap=True, class_weight=None, criterion='gini',\n",
       "                       max_depth=None, max_features='auto', max_leaf_nodes=None,\n",
       "                       min_impurity_decrease=0.0, min_impurity_split=None,\n",
       "                       min_samples_leaf=1, min_samples_split=2,\n",
       "                       min_weight_fraction_leaf=0.0, n_estimators=10,\n",
       "                       n_jobs=None, oob_score=False, random_state=None,\n",
       "                       verbose=0, warm_start=False)"
      ]
     },
     "execution_count": 28,
     "metadata": {},
     "output_type": "execute_result"
    }
   ],
   "source": [
    "#Посмотрим важные признаки с помощью RF\n",
    "rf = RandomForestClassifier()\n",
    "rf.fit(data_pca, labels)"
   ]
  },
  {
   "cell_type": "code",
   "execution_count": 29,
   "metadata": {},
   "outputs": [
    {
     "data": {
      "text/plain": [
       "<matplotlib.axes._subplots.AxesSubplot at 0x113a49d30>"
      ]
     },
     "execution_count": 29,
     "metadata": {},
     "output_type": "execute_result"
    },
    {
     "data": {
      "image/png": "[encoded data removed]",
      "text/plain": [
       "<Figure size 1080x720 with 1 Axes>"
      ]
     },
     "metadata": {},
     "output_type": "display_data"
    }
   ],
   "source": [
    "pd.DataFrame(sorted(rf.feature_importances_)).plot(kind='barh', figsize=(15,10))"
   ]
  },
  {
   "cell_type": "code",
   "execution_count": null,
   "metadata": {},
   "outputs": [],
   "source": []
  }
 ],
 "metadata": {
  "kernelspec": {
   "display_name": "Python 3",
   "language": "python",
   "name": "python3"
  },
  "language_info": {
   "codemirror_mode": {
    "name": "ipython",
    "version": 3
   },
   "file_extension": ".py",
   "mimetype": "text/x-python",
   "name": "python",
   "nbconvert_exporter": "python",
   "pygments_lexer": "ipython3",
   "version": "3.6.4"
  }
 },
 "nbformat": 4,
 "nbformat_minor": 2
}
